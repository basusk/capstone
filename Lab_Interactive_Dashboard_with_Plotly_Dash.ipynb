{
 "cells": [
  {
   "cell_type": "code",
   "execution_count": 1,
   "id": "136117d0-3faf-4ce9-bbc1-a30162328721",
   "metadata": {},
   "outputs": [
    {
     "name": "stdout",
     "output_type": "stream",
     "text": [
      "CCAFS LC-40\n",
      "VAFB SLC-4E\n",
      "KSC LC-39A\n",
      "CCAFS SLC-40\n"
     ]
    }
   ],
   "source": [
    "import dash\n",
    "from dash import dcc, html\n",
    "from dash.dependencies import Input, Output\n",
    "\n",
    "import pandas as pd\n",
    "import plotly.express as px\n",
    "\n",
    "# Load data\n",
    "data = pd.read_csv(\n",
    "    '/Users/saikatbasu/Documents/PersonalInformation_Oct2022/IBMDataScience-Coursera/AppliedDataScience-10of12/Module3-InteractiveVisualAnalytics/spacex_launch_dash.csv'\n",
    ")\n",
    "\n",
    "#data.head()\n",
    "max_payload = data['Payload Mass (kg)'].max()\n",
    "min_payload = data['Payload Mass (kg)'].min()\n",
    "sites = data['Launch Site'].unique()\n",
    "\n",
    "for site in sites:\n",
    "    print (site)\n",
    "    "
   ]
  },
  {
   "cell_type": "code",
   "execution_count": 2,
   "id": "55a6d7eb-167e-460c-b433-82d7b12e6a25",
   "metadata": {},
   "outputs": [],
   "source": [
    "app = dash.Dash(__name__)\n",
    "\n",
    "app.layout = html.Div(children=[html.H1('SpaceX Launch Records Dashboard',\n",
    "                                        style={'textAlign': 'center', 'color': '#503D36',\n",
    "                                               'font-size': 40}),\n",
    "                                # TASK 1: Add a dropdown list to enable Launch Site selection\n",
    "                                # The default select value is for ALL sites\n",
    "                                # dcc.Dropdown(id='site-dropdown',...)\n",
    "                                dcc.Dropdown(id ='site-dropdown',\n",
    "                                            options=[\n",
    "                                                {'label': 'All Sites', 'value': 'ALL'},\n",
    "                                                {'label': 'CCAFS LC-40', 'value': 'CCAFS LC-40'},\n",
    "                                                {'label': 'VAFB SLC-4E', 'value': 'VAFB SLC-4E'},\n",
    "                                                {'label': 'CCAFS SLC-40', 'value': 'CCAFS SLC-40'}\n",
    "                                            ],\n",
    "                                value='ALL',\n",
    "                                placeholder=\"ALL Sites\",\n",
    "                                searchable=True\n",
    "                                ),\n",
    "                                \n",
    "                                html.Br(),\n",
    "\n",
    "                                # TASK 2: Add a pie chart to show the total successful launches count for all sites\n",
    "                                # If a specific launch site was selected, show the Success vs. Failed counts for the site\n",
    "                                \n",
    "                                dcc.Graph(id='success-pie-chart'),\n",
    "                                \n",
    "                                dcc.RangeSlider(id='payload-slider', min=0, max=10000, step=1000,\n",
    "                                marks={0: '0', 10000: '10000'},\n",
    "                                value=[min_payload, max_payload]),\n",
    "\n",
    "                                html.Br(),  \n",
    "                                \n",
    "                                dcc.Graph(id='success-scatter-chart'),\n",
    "                                \n",
    "                                \n",
    "                               ])"
   ]
  },
  {
   "cell_type": "code",
   "execution_count": 3,
   "id": "290c7262-b7e9-4603-8784-a375bb5f8d9e",
   "metadata": {},
   "outputs": [],
   "source": [
    "# Callback for dropdown list of Launch Sites\n",
    "\n",
    "@app.callback(Output(component_id='success-pie-chart', component_property='figure'),\n",
    "              Input(component_id='site-dropdown', component_property='value'))\n",
    "\n",
    "def get_pie_chart(entered_site):\n",
    "    filtered_df = data\n",
    "    if entered_site == 'ALL':\n",
    "        fig = px.pie(data, values='class', names='Launch Site') \n",
    "        title='Landing Success Rate'\n",
    "        return fig\n",
    "    else:\n",
    "        df = data[data['Launch Site'] == entered_site]\n",
    "        #print(len(data['class'].value_counts()))\n",
    "        val = df['class'].value_counts()\n",
    "        nm = ['Failure', 'Succcess']\n",
    "        fig = px.pie(df, names=nm, values=val, title = site)\n",
    "        return fig"
   ]
  },
  {
   "cell_type": "code",
   "execution_count": 4,
   "id": "b6f3d4f7-5fbd-445b-ae43-449ca9f6c17a",
   "metadata": {},
   "outputs": [],
   "source": [
    "# Callback for slide-ranger for choosing Payload mass\n",
    "\n",
    "@app.callback(Output(component_id='success-scatter-chart', component_property='figure'),\n",
    "              [Input(component_id='site-dropdown', component_property='value'),\n",
    "              Input(component_id='payload-slider', component_property='value')]\n",
    "             )\n",
    "\n",
    "def get_scatter_plot(entered_site,slider_range):\n",
    "    #filtered_df = data\n",
    "    if entered_site == 'ALL':\n",
    "        low,high = slider_range\n",
    "        filtered_df = data[(data['Payload Mass (kg)'] > low) & (data['Payload Mass (kg)'] <=high)]\n",
    "        fig = px.scatter(x=filtered_df['Payload Mass (kg)'], y = filtered_df['class'], color=filtered_df['Booster Version']) \n",
    "        title='Payload mass Vs. Outcome'\n",
    "        return fig\n",
    "    else:\n",
    "        low,high = slider_range\n",
    "        df = data[data['Launch Site'] == entered_site]\n",
    "        df1 = df[(df['Payload Mass (kg)'] > low) & (data['Payload Mass (kg)'] < high)]\n",
    "        fig = px.scatter(x=df1['Payload Mass (kg)'], y = df1['class'], color=filtered_df['Booster Version']) \n",
    "        title='Payload mass Vs. Outcome'\n",
    "        return fig"
   ]
  },
  {
   "cell_type": "code",
   "execution_count": 5,
   "id": "26156bdd-7c2c-45f4-84f2-952e6d797bef",
   "metadata": {},
   "outputs": [
    {
     "data": {
      "text/html": [
       "\n",
       "        <iframe\n",
       "            width=\"100%\"\n",
       "            height=\"650\"\n",
       "            src=\"http://127.0.0.1:8050/\"\n",
       "            frameborder=\"0\"\n",
       "            allowfullscreen\n",
       "            \n",
       "        ></iframe>\n",
       "        "
      ],
      "text/plain": [
       "<IPython.lib.display.IFrame at 0x117729400>"
      ]
     },
     "metadata": {},
     "output_type": "display_data"
    }
   ],
   "source": [
    "# Run\n",
    "if __name__ == '__main__':\n",
    "    app.run(debug=False)"
   ]
  },
  {
   "cell_type": "code",
   "execution_count": null,
   "id": "4f4b4f6d-8aed-48ed-b9c5-8bcb52e18875",
   "metadata": {},
   "outputs": [],
   "source": []
  },
  {
   "cell_type": "code",
   "execution_count": null,
   "id": "d313ba38-c2e3-4f60-ac33-5e4ccd56e103",
   "metadata": {},
   "outputs": [],
   "source": []
  }
 ],
 "metadata": {
  "kernelspec": {
   "display_name": "Python 3 (ipykernel)",
   "language": "python",
   "name": "python3"
  },
  "language_info": {
   "codemirror_mode": {
    "name": "ipython",
    "version": 3
   },
   "file_extension": ".py",
   "mimetype": "text/x-python",
   "name": "python",
   "nbconvert_exporter": "python",
   "pygments_lexer": "ipython3",
   "version": "3.12.2"
  }
 },
 "nbformat": 4,
 "nbformat_minor": 5
}
