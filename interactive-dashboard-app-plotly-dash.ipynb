{
 "cells": [
  {
   "cell_type": "code",
   "execution_count": 1,
   "id": "69e179d4-e9ea-47bb-93dd-2a7bdfc554a6",
   "metadata": {},
   "outputs": [
    {
     "data": {
      "text/html": [
       "<div>\n",
       "<style scoped>\n",
       "    .dataframe tbody tr th:only-of-type {\n",
       "        vertical-align: middle;\n",
       "    }\n",
       "\n",
       "    .dataframe tbody tr th {\n",
       "        vertical-align: top;\n",
       "    }\n",
       "\n",
       "    .dataframe thead th {\n",
       "        text-align: right;\n",
       "    }\n",
       "</style>\n",
       "<table border=\"1\" class=\"dataframe\">\n",
       "  <thead>\n",
       "    <tr style=\"text-align: right;\">\n",
       "      <th></th>\n",
       "      <th>Unnamed: 0</th>\n",
       "      <th>Flight Number</th>\n",
       "      <th>Launch Site</th>\n",
       "      <th>class</th>\n",
       "      <th>Payload Mass (kg)</th>\n",
       "      <th>Booster Version</th>\n",
       "      <th>Booster Version Category</th>\n",
       "    </tr>\n",
       "  </thead>\n",
       "  <tbody>\n",
       "    <tr>\n",
       "      <th>0</th>\n",
       "      <td>0</td>\n",
       "      <td>1</td>\n",
       "      <td>CCAFS LC-40</td>\n",
       "      <td>0</td>\n",
       "      <td>0.0</td>\n",
       "      <td>F9 v1.0  B0003</td>\n",
       "      <td>v1.0</td>\n",
       "    </tr>\n",
       "    <tr>\n",
       "      <th>1</th>\n",
       "      <td>1</td>\n",
       "      <td>2</td>\n",
       "      <td>CCAFS LC-40</td>\n",
       "      <td>0</td>\n",
       "      <td>0.0</td>\n",
       "      <td>F9 v1.0  B0004</td>\n",
       "      <td>v1.0</td>\n",
       "    </tr>\n",
       "    <tr>\n",
       "      <th>2</th>\n",
       "      <td>2</td>\n",
       "      <td>3</td>\n",
       "      <td>CCAFS LC-40</td>\n",
       "      <td>0</td>\n",
       "      <td>525.0</td>\n",
       "      <td>F9 v1.0  B0005</td>\n",
       "      <td>v1.0</td>\n",
       "    </tr>\n",
       "    <tr>\n",
       "      <th>3</th>\n",
       "      <td>3</td>\n",
       "      <td>4</td>\n",
       "      <td>CCAFS LC-40</td>\n",
       "      <td>0</td>\n",
       "      <td>500.0</td>\n",
       "      <td>F9 v1.0  B0006</td>\n",
       "      <td>v1.0</td>\n",
       "    </tr>\n",
       "    <tr>\n",
       "      <th>4</th>\n",
       "      <td>4</td>\n",
       "      <td>5</td>\n",
       "      <td>CCAFS LC-40</td>\n",
       "      <td>0</td>\n",
       "      <td>677.0</td>\n",
       "      <td>F9 v1.0  B0007</td>\n",
       "      <td>v1.0</td>\n",
       "    </tr>\n",
       "  </tbody>\n",
       "</table>\n",
       "</div>"
      ],
      "text/plain": [
       "   Unnamed: 0  Flight Number  ... Booster Version  Booster Version Category\n",
       "0           0              1  ...  F9 v1.0  B0003                      v1.0\n",
       "1           1              2  ...  F9 v1.0  B0004                      v1.0\n",
       "2           2              3  ...  F9 v1.0  B0005                      v1.0\n",
       "3           3              4  ...  F9 v1.0  B0006                      v1.0\n",
       "4           4              5  ...  F9 v1.0  B0007                      v1.0\n",
       "\n",
       "[5 rows x 7 columns]"
      ]
     },
     "execution_count": 1,
     "metadata": {},
     "output_type": "execute_result"
    }
   ],
   "source": [
    "import dash\n",
    "from dash import dcc, html\n",
    "from dash.dependencies import Input, Output\n",
    "\n",
    "import pandas as pd\n",
    "import plotly.express as p\n",
    "\n",
    "# Load data\n",
    "data = pd.read_csv(\n",
    "    '/Users/saikatbasu/Documents/PersonalInformation_Oct2022/IBMDataScience-Coursera/AppliedDataScience-10of12/Module3-InteractiveVisualAnalytics/spacex_launch_dash.csv'\n",
    ")\n",
    "data.head()"
   ]
  },
  {
   "cell_type": "code",
   "execution_count": 2,
   "id": "f7c51eed-1101-4747-9855-ef1b8f6630c1",
   "metadata": {},
   "outputs": [],
   "source": [
    "# Initialize the app\n",
    "app = dash.Dash(__name__)\n",
    "\n",
    "# Layout\n",
    "app.layout = html.Div([\n",
    "    dcc.Dropdown(\n",
    "        id='site-dropdown',\n",
    "        options=[{'label': 'All Sites', 'value': 'ALL'}] +\n",
    "                [{'label': site, 'value': site} for site in data['Launch Site'].unique()],\n",
    "        value='ALL',\n",
    "        placeholder='Select Launch Site'\n",
    "    ),\n",
    "    \n",
    "    dcc.Graph(id='output-container'),\n",
    "    \n",
    "    dcc.RangeSlider(id='payload-slider',min=0, max=10000, step=1000, value=[data['Payload Mass (kg)'].min(), data['Payload Mass (kg)'].max()]),\n",
    "\n",
    "    dcc.Graph(id='success-payload-scatter')\n",
    "])"
   ]
  },
  {
   "cell_type": "code",
   "execution_count": 6,
   "id": "22e0307c-5ade-419e-bbc7-7171ac83a474",
   "metadata": {},
   "outputs": [],
   "source": [
    "# Callback for dropdown list of Launch Sites\n",
    "\n",
    "@app.callback(\n",
    "    Output('output-container', 'figure'),\n",
    "    Input('site-dropdown', 'value')\n",
    ")\n",
    "\n",
    "def update_graph(selected_site):\n",
    "    if selected_site == 'ALL':\n",
    "        fig = px.pie(data, names='Launch Site', values='class', title='Total Success Launches by Site')\n",
    "    else:\n",
    "        filtered = data[data['Launch Site'] == selected_site]\n",
    "        fig = px.pie(filtered, names = 'class', title=f('Launch Outcomes for {selected_site}'))\n",
    "    return fig"
   ]
  },
  {
   "cell_type": "code",
   "execution_count": 7,
   "id": "7676a9c5-f19a-4a46-96c4-33e4ce3b4249",
   "metadata": {},
   "outputs": [],
   "source": [
    "# Callback for slide-ranger for choosing Payload mass\n",
    "\n",
    "@app.callback(\n",
    "    Output('success-payload-scatter', 'figure'),\n",
    "    [Input('site-dropdown', 'value'),\n",
    "     Input('payload-slider', 'value')]\n",
    ")\n",
    "\n",
    "def update_scatter(selected_site, payload_range):\n",
    "    low, high = payload_range\n",
    "    mask = (data['Payload Mass (kg)'] >= low) & (data['Payload Mass (kg)'] <= high)\n",
    "    filtered = data[mask]\n",
    "\n",
    "    if selected_site != 'ALL':\n",
    "        filtered = filtered[filtered['Launch Site'] == selected_site]\n",
    "\n",
    "    fig = px.scatter(\n",
    "        filtered, x='Payload Mass (kg)', y='class',\n",
    "        color='Booster Version Category',\n",
    "        title='Payload vs. Outcome'\n",
    "    )\n",
    "    return fig"
   ]
  },
  {
   "cell_type": "code",
   "execution_count": 9,
   "id": "5bcbe03d-ca2f-4906-9f6b-53a0ca53fa64",
   "metadata": {},
   "outputs": [
    {
     "name": "stderr",
     "output_type": "stream",
     "text": [
      "Address already in use\n",
      "Port 8050 is in use by another program. Either identify and stop that program, or start the server with a different port.\n"
     ]
    },
    {
     "ename": "SystemExit",
     "evalue": "1",
     "output_type": "error",
     "traceback": [
      "An exception has occurred, use %tb to see the full traceback.\n",
      "\u001b[31mSystemExit\u001b[39m\u001b[31m:\u001b[39m 1\n"
     ]
    }
   ],
   "source": [
    "# Finally launcing the app in debug mode\n",
    "\n",
    "# Run\n",
    "if __name__ == '__main__':\n",
    "    app.run(debug=True)"
   ]
  },
  {
   "cell_type": "code",
   "execution_count": null,
   "id": "5f471299-9f1b-45ab-a415-f646dcf266b0",
   "metadata": {},
   "outputs": [],
   "source": []
  }
 ],
 "metadata": {
  "kernelspec": {
   "display_name": "Python 3 (ipykernel)",
   "language": "python",
   "name": "python3"
  },
  "language_info": {
   "codemirror_mode": {
    "name": "ipython",
    "version": 3
   },
   "file_extension": ".py",
   "mimetype": "text/x-python",
   "name": "python",
   "nbconvert_exporter": "python",
   "pygments_lexer": "ipython3",
   "version": "3.12.2"
  }
 },
 "nbformat": 4,
 "nbformat_minor": 5
}
